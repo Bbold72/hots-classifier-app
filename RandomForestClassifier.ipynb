{
 "cells": [
  {
   "cell_type": "code",
   "execution_count": 1,
   "source": [
    "import os\r\n",
    "import numpy as np\r\n",
    "import pandas as pd\r\n",
    "import pickle\r\n",
    "from sklearn.ensemble import RandomForestClassifier\r\n",
    "from sklearn.model_selection import train_test_split\r\n",
    "from sklearn import metrics\r\n",
    "import matplotlib.pyplot as plt\r\n",
    "import seaborn as sns\r\n",
    "\r\n",
    "\r\n",
    "\r\n",
    "dir_data = 'data'\r\n",
    "dir_output = 'output'\r\n",
    "\r\n",
    "df = pd.read_csv(os.path.join(dir_data, 'herodata.csv'))\r\n",
    "df = df.loc[df['role'] != 'Support']\r\n",
    "df = df.drop(['speed', 'sight', 'life_scale', 'life_regenScale', 'weapon_damageScale'], axis=1)\r\n",
    "\r\n",
    "# keep most important features\r\n",
    "# df = df[['hero', 'role', 'rating_damage', 'life_regenRate', 'life_amount']]\r\n",
    "# df = df[['hero', 'role', 'rating_damage', 'life_regenRate', 'life_amount', 'weapon_range']]\r\n"
   ],
   "outputs": [],
   "metadata": {}
  },
  {
   "cell_type": "code",
   "execution_count": 2,
   "source": [
    "\r\n",
    "X = df.drop(['hero', 'role'], axis=1)\r\n",
    "y = df[['role']]\r\n",
    "\r\n",
    "# Split dataset into training set and test set\r\n",
    "X_train, X_test, y_train, y_test = train_test_split(X, y, test_size=0.3)\r\n",
    "\r\n",
    "\r\n",
    "clf = RandomForestClassifier(n_estimators=500, max_depth=5)\r\n",
    "clf.fit(X_train, y_train)\r\n",
    "\r\n",
    "\r\n",
    "# Predict the response for test dataset\r\n",
    "y_pred = clf.predict(X_test)\r\n",
    "\r\n",
    "\r\n",
    "# Model Accuracy, how often is the classifier correct?\r\n",
    "print(\"Accuracy:\", metrics.accuracy_score(y_test, y_pred))\r\n",
    "\r\n",
    "# print results of predict\r\n",
    "print('Actual - Prediction')\r\n",
    "for yt, yp in zip(y_test.to_numpy(), y_pred):\r\n",
    "    print(yt[0], '-', yp)\r\n",
    "\r\n",
    "prediction_proba = clf.predict_proba(X_test)\r\n",
    "print(prediction_proba)\r\n"
   ],
   "outputs": [
    {
     "output_type": "stream",
     "name": "stderr",
     "text": [
      "C:\\Users\\bxjxr\\AppData\\Local\\Temp/ipykernel_2156/110422097.py:9: DataConversionWarning: A column-vector y was passed when a 1d array was expected. Please change the shape of y to (n_samples,), for example using ravel().\n",
      "  clf.fit(X_train, y_train)\n"
     ]
    },
    {
     "output_type": "stream",
     "name": "stdout",
     "text": [
      "Accuracy: 0.6538461538461539\n",
      "Actual - Prediction\n",
      "Bruiser - Bruiser\n",
      "Ranged Assasin - Ranged Assasin\n",
      "Ranged Assasin - Ranged Assasin\n",
      "Tank - Tank\n",
      "Healer - Healer\n",
      "Healer - Healer\n",
      "Ranged Assasin - Ranged Assasin\n",
      "Tank - Bruiser\n",
      "Melee Assasin - Bruiser\n",
      "Ranged Assasin - Ranged Assasin\n",
      "Tank - Tank\n",
      "Healer - Healer\n",
      "Bruiser - Melee Assasin\n",
      "Ranged Assasin - Ranged Assasin\n",
      "Melee Assasin - Ranged Assasin\n",
      "Ranged Assasin - Ranged Assasin\n",
      "Ranged Assasin - Melee Assasin\n",
      "Healer - Healer\n",
      "Melee Assasin - Bruiser\n",
      "Ranged Assasin - Ranged Assasin\n",
      "Ranged Assasin - Ranged Assasin\n",
      "Tank - Bruiser\n",
      "Ranged Assasin - Ranged Assasin\n",
      "Ranged Assasin - Melee Assasin\n",
      "Ranged Assasin - Ranged Assasin\n",
      "Melee Assasin - Ranged Assasin\n",
      "[[7.25733468e-01 5.28668349e-02 1.32651093e-01 3.68056424e-02\n",
      "  5.19429613e-02]\n",
      " [1.46031746e-03 2.99900024e-01 3.39826840e-02 6.60656974e-01\n",
      "  4.00000000e-03]\n",
      " [2.57142857e-03 2.39500000e-02 9.00000000e-04 9.70578571e-01\n",
      "  2.00000000e-03]\n",
      " [3.26724237e-01 2.15013761e-02 4.12035547e-03 4.82869916e-02\n",
      "  5.99367040e-01]\n",
      " [2.39854747e-01 5.82826408e-01 6.99209718e-02 3.66270285e-02\n",
      "  7.07708449e-02]\n",
      " [2.98666667e-02 5.88995912e-01 3.61453102e-02 3.33858778e-01\n",
      "  1.11333333e-02]\n",
      " [9.86031746e-03 5.11346621e-02 2.38301587e-02 9.11174862e-01\n",
      "  4.00000000e-03]\n",
      " [6.31549976e-01 1.36956268e-01 4.35405797e-02 4.03985994e-02\n",
      "  1.47554576e-01]\n",
      " [3.54083720e-01 2.06857642e-01 3.50843024e-01 4.51221287e-02\n",
      "  4.30934857e-02]\n",
      " [3.48860195e-02 4.18356643e-02 3.43288928e-01 5.65568876e-01\n",
      "  1.44205128e-02]\n",
      " [2.77213457e-01 1.65380707e-02 5.33181818e-03 2.84313725e-04\n",
      "  7.00632340e-01]\n",
      " [8.51842713e-02 7.45457622e-01 4.66753247e-03 1.01321887e-01\n",
      "  6.33686869e-02]\n",
      " [2.38899266e-01 6.39939022e-02 5.18793716e-01 1.68494994e-01\n",
      "  9.81812192e-03]\n",
      " [1.59556370e-01 3.11306974e-02 2.21842605e-01 5.44367680e-01\n",
      "  4.31026483e-02]\n",
      " [1.29743208e-01 1.49610099e-01 3.12770674e-01 3.46291495e-01\n",
      "  6.15845248e-02]\n",
      " [2.53492063e-02 3.61090382e-01 9.48564214e-02 5.10703990e-01\n",
      "  8.00000000e-03]\n",
      " [8.27063892e-02 4.11317643e-02 4.98575544e-01 3.57474881e-01\n",
      "  2.01114219e-02]\n",
      " [7.16666667e-03 8.49313156e-01 1.58975469e-03 1.39597090e-01\n",
      "  2.33333333e-03]\n",
      " [4.56646293e-01 3.89900549e-01 8.44256846e-02 2.69667258e-02\n",
      "  4.20607477e-02]\n",
      " [5.71428571e-04 1.63961538e-02 5.90000000e-03 9.75132418e-01\n",
      "  2.00000000e-03]\n",
      " [5.07714286e-02 6.26461538e-02 6.20000000e-03 8.72382418e-01\n",
      "  8.00000000e-03]\n",
      " [5.74572232e-01 8.23001979e-02 5.75249082e-02 8.64049736e-02\n",
      "  1.99197688e-01]\n",
      " [4.79365079e-03 5.21484127e-02 9.00000000e-04 9.42157937e-01\n",
      "  0.00000000e+00]\n",
      " [1.10831824e-01 8.14151416e-02 5.17080198e-01 2.78429193e-01\n",
      "  1.22436442e-02]\n",
      " [5.40000000e-02 6.15179487e-02 6.60000000e-02 8.18482051e-01\n",
      "  0.00000000e+00]\n",
      " [7.91078089e-02 5.14380453e-02 4.12712304e-01 4.34425225e-01\n",
      "  2.23166167e-02]]\n"
     ]
    }
   ],
   "metadata": {}
  },
  {
   "cell_type": "code",
   "execution_count": 3,
   "source": [
    "# Evaluate Feature importance\r\n",
    "feature_imp = pd.Series(clf.feature_importances_, index=df.columns[2:]).sort_values(ascending=False)\r\n",
    "\r\n",
    "# Creating a bar plot\r\n",
    "sns.barplot(x=feature_imp, y=feature_imp.index)\r\n",
    "plt.xlabel('Feature Importance Score')\r\n",
    "plt.ylabel('Features')\r\n",
    "plt.title(\"Visualizing Important Features\")\r\n",
    "plt.legend()\r\n",
    "plt.show()"
   ],
   "outputs": [
    {
     "output_type": "stream",
     "name": "stderr",
     "text": [
      "No handles with labels found to put in legend.\n"
     ]
    },
    {
     "output_type": "display_data",
     "data": {
      "image/png": "[encoded data removed]",
      "text/plain": [
       "<Figure size 432x288 with 1 Axes>"
      ]
     },
     "metadata": {
      "needs_background": "light"
     }
    }
   ],
   "metadata": {}
  },
  {
   "cell_type": "code",
   "execution_count": 4,
   "source": [
    "# save model to disk\r\n",
    "pickle.dump(clf, open('rf_model.sav', 'wb'))"
   ],
   "outputs": [],
   "metadata": {}
  },
  {
   "cell_type": "code",
   "execution_count": 14,
   "source": [
    "from sklearn.naive_bayes import GaussianNB\r\n",
    "gnb = GaussianNB().fit(X_train, y_train)\r\n",
    "gnb_train_pred = gnb.predict(X_train)\r\n",
    "gnb_test_pred = gnb.predict(X_test)\r\n",
    "print(\"Accuracy on Test Data:\", metrics.accuracy_score(y_train, gnb_train_pred))\r\n",
    "print(\"Accuracy on Training Data:\", metrics.accuracy_score(y_test, gnb_test_pred))\r\n",
    "prediction_proba = clf.predict_proba(X_test)"
   ],
   "outputs": [
    {
     "output_type": "stream",
     "name": "stdout",
     "text": [
      "Accuracy on Test Data: 0.7966101694915254\n",
      "Accuracy on Training Data: 0.6923076923076923\n"
     ]
    },
    {
     "output_type": "stream",
     "name": "stderr",
     "text": [
      "c:\\Users\\bxjxr\\Desktop\\Projects\\hots-classifier-app\\env\\lib\\site-packages\\sklearn\\utils\\validation.py:63: DataConversionWarning: A column-vector y was passed when a 1d array was expected. Please change the shape of y to (n_samples, ), for example using ravel().\n",
      "  return f(*args, **kwargs)\n"
     ]
    }
   ],
   "metadata": {}
  },
  {
   "cell_type": "code",
   "execution_count": 12,
   "source": [
    "from sklearn.naive_bayes import MultinomialNB\r\n",
    "gnb = MultinomialNB().fit(X_train, y_train)\r\n",
    "gnb_train_pred = gnb.predict(X_train)\r\n",
    "gnb_test_pred = gnb.predict(X_test)\r\n",
    "print(\"Accuracy on Test Data:\", metrics.accuracy_score(y_train, gnb_train_pred))\r\n",
    "print(\"Accuracy on Training Data:\", metrics.accuracy_score(y_test, gnb_test_pred))"
   ],
   "outputs": [
    {
     "output_type": "stream",
     "name": "stdout",
     "text": [
      "Accuracy on Test Data: 0.5254237288135594\n",
      "Accuracy on Training Data: 0.5\n"
     ]
    },
    {
     "output_type": "stream",
     "name": "stderr",
     "text": [
      "c:\\Users\\bxjxr\\Desktop\\Projects\\hots-classifier-app\\env\\lib\\site-packages\\sklearn\\utils\\validation.py:63: DataConversionWarning: A column-vector y was passed when a 1d array was expected. Please change the shape of y to (n_samples, ), for example using ravel().\n",
      "  return f(*args, **kwargs)\n"
     ]
    }
   ],
   "metadata": {}
  }
 ],
 "metadata": {
  "orig_nbformat": 4,
  "language_info": {
   "name": "python",
   "version": "3.9.5",
   "mimetype": "text/x-python",
   "codemirror_mode": {
    "name": "ipython",
    "version": 3
   },
   "pygments_lexer": "ipython3",
   "nbconvert_exporter": "python",
   "file_extension": ".py"
  },
  "kernelspec": {
   "name": "python3",
   "display_name": "Python 3.9.5 64-bit ('env': venv)"
  },
  "interpreter": {
   "hash": "5c0bf16329faf4931f6f2f09236bc2ad5360c3ab7dd8a4b185f9bc4513b58c4f"
  }
 },
 "nbformat": 4,
 "nbformat_minor": 2
}