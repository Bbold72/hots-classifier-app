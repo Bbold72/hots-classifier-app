{
 "cells": [
  {
   "cell_type": "code",
   "execution_count": 45,
   "source": [
    "import os\r\n",
    "import numpy as np\r\n",
    "import pandas as pd\r\n",
    "import pickle\r\n",
    "from sklearn.ensemble import RandomForestClassifier\r\n",
    "from sklearn.model_selection import train_test_split\r\n",
    "from sklearn import metrics\r\n",
    "import matplotlib.pyplot as plt\r\n",
    "import seaborn as sns\r\n",
    "\r\n",
    "\r\n",
    "\r\n",
    "dir_data = 'data'\r\n",
    "dir_output = 'output'\r\n",
    "\r\n",
    "df = pd.read_csv(os.path.join(dir_data, 'herodata.csv'))\r\n",
    "df = df.loc[df['role'] != 'Support']\r\n",
    "df = df.drop(['speed', 'sight', 'life_scale', 'life_regenScale', 'weapon_damageScale'], axis=1)\r\n",
    "\r\n",
    "# keep most important features\r\n",
    "# df = df[['hero', 'role', 'rating_damage', 'life_regenRate', 'life_amount']]\r\n",
    "# df = df[['hero', 'role', 'rating_damage', 'life_regenRate', 'life_amount', 'weapon_range']]\r\n"
   ],
   "outputs": [],
   "metadata": {}
  },
  {
   "cell_type": "code",
   "execution_count": 46,
   "source": [
    "\r\n",
    "X = df.drop(['hero', 'role'], axis=1)\r\n",
    "y = df[['role']]\r\n",
    "\r\n",
    "# Split dataset into training set and test set\r\n",
    "X_train, X_test, y_train, y_test = train_test_split(X, y, test_size=0.3)\r\n",
    "\r\n",
    "\r\n",
    "clf = RandomForestClassifier(n_estimators=500, max_depth=5)\r\n",
    "clf.fit(X_train, y_train)\r\n",
    "\r\n",
    "\r\n",
    "# Predict the response for test dataset\r\n",
    "y_pred = clf.predict(X_test)\r\n",
    "\r\n",
    "\r\n",
    "# Model Accuracy, how often is the classifier correct?\r\n",
    "print(\"Accuracy:\", metrics.accuracy_score(y_test, y_pred))\r\n",
    "\r\n",
    "# print results of predict\r\n",
    "print('Actual - Prediction')\r\n",
    "for yt, yp in zip(y_test.to_numpy(), y_pred):\r\n",
    "    print(yt[0], '-', yp)\r\n",
    "\r\n",
    "prediction_proba = clf.predict_proba(X_test)\r\n",
    "print(prediction_proba)\r\n"
   ],
   "outputs": [
    {
     "output_type": "stream",
     "name": "stderr",
     "text": [
      "C:\\Users\\bxjxr\\AppData\\Local\\Temp/ipykernel_2156/110422097.py:9: DataConversionWarning: A column-vector y was passed when a 1d array was expected. Please change the shape of y to (n_samples,), for example using ravel().\n",
      "  clf.fit(X_train, y_train)\n"
     ]
    },
    {
     "output_type": "stream",
     "name": "stdout",
     "text": [
      "Accuracy: 0.8461538461538461\n",
      "Actual - Prediction\n",
      "Melee Assasin - Bruiser\n",
      "Ranged Assasin - Ranged Assasin\n",
      "Tank - Tank\n",
      "Melee Assasin - Melee Assasin\n",
      "Healer - Healer\n",
      "Bruiser - Bruiser\n",
      "Melee Assasin - Bruiser\n",
      "Ranged Assasin - Ranged Assasin\n",
      "Bruiser - Bruiser\n",
      "Ranged Assasin - Ranged Assasin\n",
      "Ranged Assasin - Ranged Assasin\n",
      "Ranged Assasin - Ranged Assasin\n",
      "Melee Assasin - Bruiser\n",
      "Ranged Assasin - Ranged Assasin\n",
      "Ranged Assasin - Ranged Assasin\n",
      "Ranged Assasin - Ranged Assasin\n",
      "Melee Assasin - Melee Assasin\n",
      "Bruiser - Bruiser\n",
      "Ranged Assasin - Ranged Assasin\n",
      "Tank - Tank\n",
      "Ranged Assasin - Ranged Assasin\n",
      "Healer - Healer\n",
      "Tank - Tank\n",
      "Ranged Assasin - Ranged Assasin\n",
      "Healer - Healer\n",
      "Tank - Bruiser\n",
      "[[5.11602683e-01 1.54394172e-01 1.72889887e-01 1.02482929e-01\n",
      "  5.86303294e-02]\n",
      " [3.87533911e-02 6.21513986e-02 1.23346248e-01 7.69103508e-01\n",
      "  6.64545455e-03]\n",
      " [2.84292582e-01 7.35664336e-04 2.85721925e-02 6.25000000e-03\n",
      "  6.80149561e-01]\n",
      " [1.95587662e-01 1.73858522e-01 3.16094961e-01 2.69443254e-01\n",
      "  4.50156011e-02]\n",
      " [1.96853050e-01 4.92677230e-01 9.90229344e-02 5.30272209e-02\n",
      "  1.58419564e-01]\n",
      " [7.77921061e-01 4.19261957e-02 5.86467158e-02 3.90170339e-02\n",
      "  8.24889936e-02]\n",
      " [5.03495749e-01 1.10830443e-01 1.67709115e-01 1.66952801e-01\n",
      "  5.10118923e-02]\n",
      " [9.55555556e-03 6.74373016e-02 1.01918254e-01 8.15088889e-01\n",
      "  6.00000000e-03]\n",
      " [4.92096633e-01 9.06582307e-03 1.45735931e-02 1.49000000e-02\n",
      "  4.69363951e-01]\n",
      " [3.15860854e-01 7.34837159e-02 2.03440113e-01 3.28015285e-01\n",
      "  7.92000320e-02]\n",
      " [1.77836754e-01 7.66456173e-02 3.16493272e-01 4.18454774e-01\n",
      "  1.05695832e-02]\n",
      " [2.00000000e-03 3.25622294e-02 4.84285714e-03 9.60594913e-01\n",
      "  0.00000000e+00]\n",
      " [4.68956493e-01 1.67139965e-01 2.12220875e-01 1.17393846e-01\n",
      "  3.42888209e-02]\n",
      " [4.21253247e-02 1.21813881e-01 1.43718543e-01 6.82601560e-01\n",
      "  9.74069264e-03]\n",
      " [5.08428571e-02 4.14396825e-02 1.51500794e-01 7.49870238e-01\n",
      "  6.34642857e-03]\n",
      " [1.75378301e-01 9.39272224e-02 2.59709449e-01 4.36014347e-01\n",
      "  3.49706807e-02]\n",
      " [1.96685231e-01 8.43302031e-02 4.31326701e-01 2.79426732e-01\n",
      "  8.23113276e-03]\n",
      " [5.54463716e-01 2.39169290e-02 1.67755644e-01 6.84023014e-02\n",
      "  1.85461410e-01]\n",
      " [2.59777152e-01 6.87244357e-02 2.32189699e-01 4.16294650e-01\n",
      "  2.30140637e-02]\n",
      " [3.57375440e-01 2.47417610e-02 3.59764206e-03 6.11988095e-02\n",
      "  5.53086347e-01]\n",
      " [8.53636752e-02 4.11070208e-02 2.88886447e-01 5.79521429e-01\n",
      "  5.12142857e-03]\n",
      " [8.04154623e-02 7.49084338e-01 1.26469697e-02 1.14586563e-01\n",
      "  4.32666667e-02]\n",
      " [2.68302497e-01 1.93970474e-03 1.71245735e-02 1.21174603e-02\n",
      "  7.00515764e-01]\n",
      " [8.49093795e-02 7.03691198e-02 4.71964646e-02 7.92215079e-01\n",
      "  5.30995671e-03]\n",
      " [5.40940171e-03 8.58570518e-01 1.35357143e-02 1.17884366e-01\n",
      "  4.60000000e-03]\n",
      " [6.16579845e-01 4.06801419e-02 2.99131302e-02 2.44201881e-02\n",
      "  2.88406695e-01]]\n"
     ]
    }
   ],
   "metadata": {}
  },
  {
   "cell_type": "code",
   "execution_count": 47,
   "source": [
    "# Evaluate Feature importance\r\n",
    "feature_imp = pd.Series(clf.feature_importances_, index=df.columns[2:]).sort_values(ascending=False)\r\n",
    "\r\n",
    "# Creating a bar plot\r\n",
    "sns.barplot(x=feature_imp, y=feature_imp.index)\r\n",
    "plt.xlabel('Feature Importance Score')\r\n",
    "plt.ylabel('Features')\r\n",
    "plt.title(\"Visualizing Important Features\")\r\n",
    "plt.legend()\r\n",
    "plt.show()"
   ],
   "outputs": [
    {
     "output_type": "stream",
     "name": "stderr",
     "text": [
      "No handles with labels found to put in legend.\n"
     ]
    },
    {
     "output_type": "display_data",
     "data": {
      "image/png": "[encoded data removed]",
      "text/plain": [
       "<Figure size 432x288 with 1 Axes>"
      ]
     },
     "metadata": {
      "needs_background": "light"
     }
    }
   ],
   "metadata": {}
  },
  {
   "cell_type": "code",
   "execution_count": 48,
   "source": [
    "# save model to disk\r\n",
    "pickle.dump(clf, open('rf_model.sav', 'wb'))"
   ],
   "outputs": [],
   "metadata": {}
  },
  {
   "cell_type": "code",
   "execution_count": 49,
   "source": [
    "from sklearn.naive_bayes import GaussianNB\r\n",
    "gnb = GaussianNB().fit(X_train, y_train)\r\n",
    "gnb_train_pred = gnb.predict(X_train)\r\n",
    "gnb_test_pred = gnb.predict(X_test)\r\n",
    "print(\"Accuracy on Test Data:\", metrics.accuracy_score(y_train, gnb_train_pred))\r\n",
    "print(\"Accuracy on Training Data:\", metrics.accuracy_score(y_test, gnb_test_pred))\r\n",
    "prediction_proba = clf.predict_proba(X_test)"
   ],
   "outputs": [
    {
     "output_type": "stream",
     "name": "stdout",
     "text": [
      "Accuracy on Test Data: 0.7966101694915254\n",
      "Accuracy on Training Data: 0.7307692307692307\n"
     ]
    },
    {
     "output_type": "stream",
     "name": "stderr",
     "text": [
      "c:\\Users\\bxjxr\\Desktop\\Projects\\hots-classifier-app\\env\\lib\\site-packages\\sklearn\\utils\\validation.py:63: DataConversionWarning: A column-vector y was passed when a 1d array was expected. Please change the shape of y to (n_samples, ), for example using ravel().\n",
      "  return f(*args, **kwargs)\n"
     ]
    }
   ],
   "metadata": {}
  },
  {
   "cell_type": "code",
   "execution_count": 50,
   "source": [
    "from sklearn.naive_bayes import MultinomialNB\r\n",
    "gnb = MultinomialNB().fit(X_train, y_train)\r\n",
    "gnb_train_pred = gnb.predict(X_train)\r\n",
    "gnb_test_pred = gnb.predict(X_test)\r\n",
    "print(\"Accuracy on Test Data:\", metrics.accuracy_score(y_train, gnb_train_pred))\r\n",
    "print(\"Accuracy on Training Data:\", metrics.accuracy_score(y_test, gnb_test_pred))"
   ],
   "outputs": [
    {
     "output_type": "stream",
     "name": "stdout",
     "text": [
      "Accuracy on Test Data: 0.6440677966101694\n",
      "Accuracy on Training Data: 0.5769230769230769\n"
     ]
    },
    {
     "output_type": "stream",
     "name": "stderr",
     "text": [
      "c:\\Users\\bxjxr\\Desktop\\Projects\\hots-classifier-app\\env\\lib\\site-packages\\sklearn\\utils\\validation.py:63: DataConversionWarning: A column-vector y was passed when a 1d array was expected. Please change the shape of y to (n_samples, ), for example using ravel().\n",
      "  return f(*args, **kwargs)\n"
     ]
    }
   ],
   "metadata": {}
  }
 ],
 "metadata": {
  "orig_nbformat": 4,
  "language_info": {
   "name": "python",
   "version": "3.9.5",
   "mimetype": "text/x-python",
   "codemirror_mode": {
    "name": "ipython",
    "version": 3
   },
   "pygments_lexer": "ipython3",
   "nbconvert_exporter": "python",
   "file_extension": ".py"
  },
  "kernelspec": {
   "name": "python3",
   "display_name": "Python 3.9.5 64-bit ('env': venv)"
  },
  "interpreter": {
   "hash": "5c0bf16329faf4931f6f2f09236bc2ad5360c3ab7dd8a4b185f9bc4513b58c4f"
  }
 },
 "nbformat": 4,
 "nbformat_minor": 2
}