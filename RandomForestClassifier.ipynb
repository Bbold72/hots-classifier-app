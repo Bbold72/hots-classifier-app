{
 "cells": [
  {
   "cell_type": "code",
   "execution_count": 1,
   "source": [
    "import os\r\n",
    "import pandas as pd\r\n",
    "from sklearn.ensemble import RandomForestClassifier\r\n",
    "from sklearn.model_selection import train_test_split\r\n",
    "from sklearn import metrics\r\n",
    "\r\n",
    "\r\n",
    "dir_data = 'data'\r\n",
    "dir_output = 'output'\r\n",
    "\r\n",
    "df = pd.read_csv(os.path.join(dir_data, 'herodata.csv'))\r\n",
    "df = df.drop(['speed', 'sight', 'life_scale', 'life_regenScale', 'weapon_damageScale'], axis=1)\r\n",
    "X = df.drop(['hero', 'role'], axis=1)\r\n",
    "y = df[['role']]"
   ],
   "outputs": [],
   "metadata": {}
  },
  {
   "cell_type": "code",
   "execution_count": 3,
   "source": [
    "\r\n",
    "\r\n",
    "# Split dataset into training set and test set\r\n",
    "X_train, X_test, y_train, y_test = train_test_split(X, y, test_size=0.2)\r\n",
    "\r\n",
    "\r\n",
    "clf = RandomForestClassifier()\r\n",
    "clf.fit(X_train, y_train)\r\n",
    "\r\n",
    "\r\n",
    "# Predict the response for test dataset\r\n",
    "y_pred = clf.predict(X_test)\r\n",
    "\r\n",
    "\r\n",
    "# Model Accuracy, how often is the classifier correct?\r\n",
    "print(\"Accuracy:\", metrics.accuracy_score(y_test, y_pred))\r\n",
    "\r\n",
    "# print results of predict\r\n",
    "print('Actual - Prediction')\r\n",
    "for yt, yp in zip(y_test.to_numpy(), y_pred):\r\n",
    "    print(yt[0], '-', yp)\r\n",
    "\r\n",
    "prediction_proba = clf.predict_proba(X_test)\r\n",
    "print(prediction_proba)\r\n"
   ],
   "outputs": [
    {
     "output_type": "stream",
     "name": "stdout",
     "text": [
      "Accuracy: 0.8333333333333334\n",
      "Actual - Prediction\n",
      "Ranged Assasin - Ranged Assasin\n",
      "Healer - Healer\n",
      "Melee Assasin - Melee Assasin\n",
      "Ranged Assasin - Ranged Assasin\n",
      "Bruiser - Bruiser\n",
      "Melee Assasin - Ranged Assasin\n",
      "Bruiser - Bruiser\n",
      "Tank - Tank\n",
      "Bruiser - Bruiser\n",
      "Healer - Healer\n",
      "Ranged Assasin - Ranged Assasin\n",
      "Healer - Healer\n",
      "Healer - Healer\n",
      "Melee Assasin - Bruiser\n",
      "Ranged Assasin - Ranged Assasin\n",
      "Ranged Assasin - Ranged Assasin\n",
      "Melee Assasin - Melee Assasin\n",
      "Melee Assasin - Bruiser\n",
      "[[0.09 0.35 0.03 0.44 0.08 0.01]\n",
      " [0.18 0.54 0.09 0.01 0.09 0.09]\n",
      " [0.14 0.18 0.31 0.29 0.02 0.06]\n",
      " [0.06 0.01 0.27 0.66 0.   0.  ]\n",
      " [0.49 0.01 0.01 0.03 0.   0.46]\n",
      " [0.16 0.02 0.33 0.46 0.02 0.01]\n",
      " [0.56 0.   0.02 0.   0.   0.42]\n",
      " [0.02 0.03 0.   0.04 0.03 0.88]\n",
      " [0.49 0.   0.02 0.08 0.02 0.39]\n",
      " [0.03 0.72 0.   0.07 0.13 0.05]\n",
      " [0.05 0.03 0.05 0.84 0.03 0.  ]\n",
      " [0.03 0.49 0.05 0.35 0.04 0.04]\n",
      " [0.   0.62 0.02 0.26 0.1  0.  ]\n",
      " [0.31 0.16 0.1  0.14 0.09 0.2 ]\n",
      " [0.   0.02 0.   0.98 0.   0.  ]\n",
      " [0.01 0.03 0.01 0.95 0.   0.  ]\n",
      " [0.31 0.17 0.35 0.17 0.   0.  ]\n",
      " [0.42 0.35 0.07 0.03 0.04 0.09]]\n"
     ]
    },
    {
     "output_type": "stream",
     "name": "stderr",
     "text": [
      "C:\\Users\\bxjxr\\AppData\\Local\\Temp/ipykernel_4848/3926376897.py:6: DataConversionWarning: A column-vector y was passed when a 1d array was expected. Please change the shape of y to (n_samples,), for example using ravel().\n",
      "  clf.fit(X_train, y_train)\n"
     ]
    }
   ],
   "metadata": {}
  }
 ],
 "metadata": {
  "orig_nbformat": 4,
  "language_info": {
   "name": "python",
   "version": "3.9.5",
   "mimetype": "text/x-python",
   "codemirror_mode": {
    "name": "ipython",
    "version": 3
   },
   "pygments_lexer": "ipython3",
   "nbconvert_exporter": "python",
   "file_extension": ".py"
  },
  "kernelspec": {
   "name": "python3",
   "display_name": "Python 3.9.5 64-bit ('env': venv)"
  },
  "interpreter": {
   "hash": "4003faa9b235c24632bc94462846e630e510eb844ea551b1e705031bec66b08d"
  }
 },
 "nbformat": 4,
 "nbformat_minor": 2
}