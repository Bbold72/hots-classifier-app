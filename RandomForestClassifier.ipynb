{
 "cells": [
  {
   "cell_type": "code",
   "execution_count": 140,
   "source": [
    "import os\r\n",
    "import numpy as np\r\n",
    "import pandas as pd\r\n",
    "import pickle\r\n",
    "from sklearn import metrics\r\n",
    "from sklearn.ensemble import RandomForestClassifier\r\n",
    "from sklearn.model_selection import train_test_split\r\n",
    "from sklearn.naive_bayes import MultinomialNB\r\n",
    "import matplotlib.pyplot as plt\r\n",
    "import seaborn as sns\r\n",
    "\r\n",
    "\r\n",
    "\r\n",
    "dir_data = 'data'\r\n",
    "dir_output = 'output'\r\n",
    "\r\n",
    "df = pd.read_csv(os.path.join(dir_data, 'herodata.csv'))\r\n",
    "df = df.loc[df['role'] != 'Support']\r\n",
    "df = df.drop(['speed', 'sight', 'life_scale', 'life_regenScale', 'weapon_damageScale'], axis=1)\r\n",
    "\r\n",
    "# keep most important features\r\n",
    "# df = df[['hero', 'role', 'rating_damage', 'life_regenRate', 'life_amount']]\r\n",
    "# df = df[['hero', 'role', 'rating_damage', 'life_regenRate', 'life_amount', 'weapon_range']]\r\n",
    "\r\n",
    "\r\n",
    "X = df.drop(['hero', 'role'], axis=1)   # features\r\n",
    "y = df[['role']]                        # labels"
   ],
   "outputs": [],
   "metadata": {}
  },
  {
   "cell_type": "code",
   "execution_count": 141,
   "source": [
    "# Split dataset into training set and test set\r\n",
    "X_train, X_test, y_train, y_test = train_test_split(X, y, test_size=0.3)\r\n",
    "\r\n",
    "# dictionary to hold models accuracy\r\n",
    "accuracy_dict = dict()\r\n",
    "\r\n",
    "# implement shuffle split to conduct cross validation to evaluate\r\n",
    "# performace across models\r\n",
    "sf = ShuffleSplit(n_splits=5, random_state=0, test_size=0.3)"
   ],
   "outputs": [],
   "metadata": {}
  },
  {
   "cell_type": "code",
   "execution_count": 142,
   "source": [
    "### Random Forest ###\r\n",
    "accuracy_dict['Random Forest'] = list()\r\n",
    "\r\n",
    "for test, train in sf.split(X):  # loop through each fold\r\n",
    "\r\n",
    "    # split into testing and training data for each fold\r\n",
    "    X_train, y_train, X_test, y_test = X.iloc[train], y.iloc[train], X.iloc[test], y.iloc[test]\r\n",
    "\r\n",
    "    # fit model\r\n",
    "    rf = RandomForestClassifier(n_estimators=500, max_depth=2).fit(X_train, y_train)\r\n",
    "\r\n",
    "    # Predict the response \r\n",
    "    rf_train_pred = rf.predict(X_train)\r\n",
    "    rf_test_pred = rf.predict(X_test)\r\n",
    "\r\n",
    "    # Model Accuracy\r\n",
    "    acc_train = metrics.accuracy_score(y_train, rf_train_pred)\r\n",
    "    acc_test = metrics.accuracy_score(y_test, rf_test_pred)\r\n",
    "    print(\"Accuracy on Test Data:\", acc_train)\r\n",
    "    print(\"Accuracy on Training Data:\", acc_test)\r\n",
    "\r\n",
    "    accuracy_dict['Random Forest'].append(acc_test)\r\n",
    "    # print results of predict\r\n",
    "    # print('Actual - Prediction')\r\n",
    "    # for yt, yp in zip(y_test.to_numpy(), y_pred):\r\n",
    "    #     print(yt[0], '-', yp)\r\n",
    "\r\n",
    "\r\n"
   ],
   "outputs": [
    {
     "output_type": "stream",
     "name": "stderr",
     "text": [
      "C:\\Users\\bxjxr\\AppData\\Local\\Temp/ipykernel_2156/755121259.py:10: DataConversionWarning: A column-vector y was passed when a 1d array was expected. Please change the shape of y to (n_samples,), for example using ravel().\n",
      "  rf = RandomForestClassifier(n_estimators=500, max_depth=2).fit(X_train, y_train)\n"
     ]
    },
    {
     "output_type": "stream",
     "name": "stdout",
     "text": [
      "Accuracy on Test Data: 0.9615384615384616\n",
      "Accuracy on Training Data: 0.6101694915254238\n"
     ]
    },
    {
     "output_type": "stream",
     "name": "stderr",
     "text": [
      "C:\\Users\\bxjxr\\AppData\\Local\\Temp/ipykernel_2156/755121259.py:10: DataConversionWarning: A column-vector y was passed when a 1d array was expected. Please change the shape of y to (n_samples,), for example using ravel().\n",
      "  rf = RandomForestClassifier(n_estimators=500, max_depth=2).fit(X_train, y_train)\n"
     ]
    },
    {
     "output_type": "stream",
     "name": "stdout",
     "text": [
      "Accuracy on Test Data: 0.9615384615384616\n",
      "Accuracy on Training Data: 0.576271186440678\n"
     ]
    },
    {
     "output_type": "stream",
     "name": "stderr",
     "text": [
      "C:\\Users\\bxjxr\\AppData\\Local\\Temp/ipykernel_2156/755121259.py:10: DataConversionWarning: A column-vector y was passed when a 1d array was expected. Please change the shape of y to (n_samples,), for example using ravel().\n",
      "  rf = RandomForestClassifier(n_estimators=500, max_depth=2).fit(X_train, y_train)\n"
     ]
    },
    {
     "output_type": "stream",
     "name": "stdout",
     "text": [
      "Accuracy on Test Data: 0.8846153846153846\n",
      "Accuracy on Training Data: 0.4745762711864407\n"
     ]
    },
    {
     "output_type": "stream",
     "name": "stderr",
     "text": [
      "C:\\Users\\bxjxr\\AppData\\Local\\Temp/ipykernel_2156/755121259.py:10: DataConversionWarning: A column-vector y was passed when a 1d array was expected. Please change the shape of y to (n_samples,), for example using ravel().\n",
      "  rf = RandomForestClassifier(n_estimators=500, max_depth=2).fit(X_train, y_train)\n"
     ]
    },
    {
     "output_type": "stream",
     "name": "stdout",
     "text": [
      "Accuracy on Test Data: 1.0\n",
      "Accuracy on Training Data: 0.6949152542372882\n"
     ]
    },
    {
     "output_type": "stream",
     "name": "stderr",
     "text": [
      "C:\\Users\\bxjxr\\AppData\\Local\\Temp/ipykernel_2156/755121259.py:10: DataConversionWarning: A column-vector y was passed when a 1d array was expected. Please change the shape of y to (n_samples,), for example using ravel().\n",
      "  rf = RandomForestClassifier(n_estimators=500, max_depth=2).fit(X_train, y_train)\n"
     ]
    },
    {
     "output_type": "stream",
     "name": "stdout",
     "text": [
      "Accuracy on Test Data: 0.9230769230769231\n",
      "Accuracy on Training Data: 0.559322033898305\n"
     ]
    }
   ],
   "metadata": {}
  },
  {
   "cell_type": "code",
   "execution_count": 143,
   "source": [
    "# Evaluate Feature importance\r\n",
    "feature_imp = pd.Series(clf.feature_importances_, index=df.columns[2:]).sort_values(ascending=False)\r\n",
    "\r\n",
    "# Create a bar plot\r\n",
    "sns.barplot(x=feature_imp, y=feature_imp.index)\r\n",
    "plt.xlabel('Feature Importance Score')\r\n",
    "plt.ylabel('Features')\r\n",
    "plt.title(\"Visualizing Important Features\")\r\n",
    "plt.legend()\r\n",
    "plt.show()"
   ],
   "outputs": [
    {
     "output_type": "stream",
     "name": "stderr",
     "text": [
      "No handles with labels found to put in legend.\n"
     ]
    },
    {
     "output_type": "display_data",
     "data": {
      "image/png": "[encoded data removed]",
      "text/plain": [
       "<Figure size 432x288 with 1 Axes>"
      ]
     },
     "metadata": {
      "needs_background": "light"
     }
    }
   ],
   "metadata": {}
  },
  {
   "cell_type": "code",
   "execution_count": 144,
   "source": [
    "# save model to disk\r\n",
    "pickle.dump(clf, open('rf_model.sav', 'wb'))"
   ],
   "outputs": [],
   "metadata": {}
  },
  {
   "cell_type": "code",
   "execution_count": 145,
   "source": [
    "accuracy_dict['Gaussian Naive Bayes'] = list()\r\n",
    "\r\n",
    "for test, train in sf.split(X):  # loop through each fold\r\n",
    "\r\n",
    "    # split into testing and training data for each fold\r\n",
    "    X_train, y_train, X_test, y_test = X.iloc[train], y.iloc[train], X.iloc[test], y.iloc[test]\r\n",
    "\r\n",
    "    from sklearn.naive_bayes import GaussianNB\r\n",
    "    gnb = GaussianNB().fit(X_train, y_train)\r\n",
    "    gnb_train_pred = gnb.predict(X_train)\r\n",
    "    gnb_test_pred = gnb.predict(X_test)\r\n",
    "\r\n",
    "    acc_train = metrics.accuracy_score(y_train, gnb_train_pred)\r\n",
    "    acc_test = metrics.accuracy_score(y_test, gnb_test_pred)\r\n",
    "    print(\"Accuracy on Test Data:\", acc_train)\r\n",
    "    print(\"Accuracy on Training Data:\", acc_test)\r\n",
    "\r\n",
    "    accuracy_dict['Gaussian Naive Bayes'].append(acc_test)"
   ],
   "outputs": [
    {
     "output_type": "stream",
     "name": "stderr",
     "text": [
      "c:\\Users\\bxjxr\\Desktop\\Projects\\hots-classifier-app\\env\\lib\\site-packages\\sklearn\\utils\\validation.py:63: DataConversionWarning: A column-vector y was passed when a 1d array was expected. Please change the shape of y to (n_samples, ), for example using ravel().\n",
      "  return f(*args, **kwargs)\n",
      "c:\\Users\\bxjxr\\Desktop\\Projects\\hots-classifier-app\\env\\lib\\site-packages\\sklearn\\utils\\validation.py:63: DataConversionWarning: A column-vector y was passed when a 1d array was expected. Please change the shape of y to (n_samples, ), for example using ravel().\n",
      "  return f(*args, **kwargs)\n",
      "c:\\Users\\bxjxr\\Desktop\\Projects\\hots-classifier-app\\env\\lib\\site-packages\\sklearn\\utils\\validation.py:63: DataConversionWarning: A column-vector y was passed when a 1d array was expected. Please change the shape of y to (n_samples, ), for example using ravel().\n",
      "  return f(*args, **kwargs)\n",
      "c:\\Users\\bxjxr\\Desktop\\Projects\\hots-classifier-app\\env\\lib\\site-packages\\sklearn\\utils\\validation.py:63: DataConversionWarning: A column-vector y was passed when a 1d array was expected. Please change the shape of y to (n_samples, ), for example using ravel().\n",
      "  return f(*args, **kwargs)\n",
      "c:\\Users\\bxjxr\\Desktop\\Projects\\hots-classifier-app\\env\\lib\\site-packages\\sklearn\\utils\\validation.py:63: DataConversionWarning: A column-vector y was passed when a 1d array was expected. Please change the shape of y to (n_samples, ), for example using ravel().\n",
      "  return f(*args, **kwargs)\n"
     ]
    },
    {
     "output_type": "stream",
     "name": "stdout",
     "text": [
      "Accuracy on Test Data: 1.0\n",
      "Accuracy on Training Data: 0.6271186440677966\n",
      "Accuracy on Test Data: 0.8461538461538461\n",
      "Accuracy on Training Data: 0.576271186440678\n",
      "Accuracy on Test Data: 1.0\n",
      "Accuracy on Training Data: 0.576271186440678\n",
      "Accuracy on Test Data: 0.8846153846153846\n",
      "Accuracy on Training Data: 0.6610169491525424\n",
      "Accuracy on Test Data: 0.9615384615384616\n",
      "Accuracy on Training Data: 0.5932203389830508\n"
     ]
    }
   ],
   "metadata": {}
  },
  {
   "cell_type": "code",
   "execution_count": 146,
   "source": [
    "accuracy_dict['Multinomial Naive Bayes'] = list()\r\n",
    "\r\n",
    "for test, train in sf.split(X):  # loop through each fold\r\n",
    "\r\n",
    "    # split into testing and training data for each fold\r\n",
    "    X_train, y_train, X_test, y_test = X.iloc[train], y.iloc[train], X.iloc[test], y.iloc[test]\r\n",
    "\r\n",
    "    mnb = MultinomialNB().fit(X_train, y_train)\r\n",
    "    mnb_train_pred = mnb.predict(X_train)\r\n",
    "    mnb_test_pred = mnb.predict(X_test)\r\n",
    "\r\n",
    "    acc_train = metrics.accuracy_score(y_train, mnb_train_pred) \r\n",
    "    acc_test =  metrics.accuracy_score(y_test, mnb_test_pred)\r\n",
    "    print(\"Accuracy on Test Data:\", acc_train)\r\n",
    "    print(\"Accuracy on Training Data:\", acc_test)\r\n",
    "\r\n",
    "    accuracy_dict['Multinomial Naive Bayes'].append(acc_test)\r\n"
   ],
   "outputs": [
    {
     "output_type": "stream",
     "name": "stdout",
     "text": [
      "Accuracy on Test Data: 0.5769230769230769\n",
      "Accuracy on Training Data: 0.423728813559322\n",
      "Accuracy on Test Data: 0.6153846153846154\n",
      "Accuracy on Training Data: 0.3898305084745763\n",
      "Accuracy on Test Data: 0.6923076923076923\n",
      "Accuracy on Training Data: 0.5423728813559322\n",
      "Accuracy on Test Data: 0.5769230769230769\n",
      "Accuracy on Training Data: 0.576271186440678\n",
      "Accuracy on Test Data: 0.46153846153846156\n",
      "Accuracy on Training Data: 0.5084745762711864\n"
     ]
    },
    {
     "output_type": "stream",
     "name": "stderr",
     "text": [
      "c:\\Users\\bxjxr\\Desktop\\Projects\\hots-classifier-app\\env\\lib\\site-packages\\sklearn\\utils\\validation.py:63: DataConversionWarning: A column-vector y was passed when a 1d array was expected. Please change the shape of y to (n_samples, ), for example using ravel().\n",
      "  return f(*args, **kwargs)\n",
      "c:\\Users\\bxjxr\\Desktop\\Projects\\hots-classifier-app\\env\\lib\\site-packages\\sklearn\\utils\\validation.py:63: DataConversionWarning: A column-vector y was passed when a 1d array was expected. Please change the shape of y to (n_samples, ), for example using ravel().\n",
      "  return f(*args, **kwargs)\n",
      "c:\\Users\\bxjxr\\Desktop\\Projects\\hots-classifier-app\\env\\lib\\site-packages\\sklearn\\utils\\validation.py:63: DataConversionWarning: A column-vector y was passed when a 1d array was expected. Please change the shape of y to (n_samples, ), for example using ravel().\n",
      "  return f(*args, **kwargs)\n",
      "c:\\Users\\bxjxr\\Desktop\\Projects\\hots-classifier-app\\env\\lib\\site-packages\\sklearn\\utils\\validation.py:63: DataConversionWarning: A column-vector y was passed when a 1d array was expected. Please change the shape of y to (n_samples, ), for example using ravel().\n",
      "  return f(*args, **kwargs)\n",
      "c:\\Users\\bxjxr\\Desktop\\Projects\\hots-classifier-app\\env\\lib\\site-packages\\sklearn\\utils\\validation.py:63: DataConversionWarning: A column-vector y was passed when a 1d array was expected. Please change the shape of y to (n_samples, ), for example using ravel().\n",
      "  return f(*args, **kwargs)\n"
     ]
    }
   ],
   "metadata": {}
  },
  {
   "cell_type": "code",
   "execution_count": 198,
   "source": [
    "acc_df = pd.DataFrame(accuracy_dict)\r\n",
    "print(acc_df, '\\n')\r\n",
    "\r\n",
    "mean_acc_df = acc_df.mean(axis=0).sort_values(ascending=False)\r\n",
    "print(mean_acc_df, '\\n')\r\n",
    "\r\n",
    "# Ranged Assassin is the most likely by chance\r\n",
    "random_chance = df.loc[df['role'] == 'Ranged Assassin'].count()['role'] / df.count()['role']\r\n",
    "print('Accuracy of Guessing Ranged Assassin:', random_chance) \r\n",
    "\r\n",
    "mean_acc_df = (mean_acc_df.append(pd.Series(random_chance, index=['Random Chance']))\r\n",
    "                .to_frame()\r\n",
    "                .reset_index()\r\n",
    "            )\r\n",
    "mean_acc_df.columns = ['Models', 'Accuracy']\r\n",
    "mean_acc_df"
   ],
   "outputs": [
    {
     "output_type": "stream",
     "name": "stdout",
     "text": [
      "   Random Forest  Gaussian Naive Bayes  Multinomial Naive Bayes\n",
      "0       0.610169              0.627119                 0.423729\n",
      "1       0.576271              0.576271                 0.389831\n",
      "2       0.474576              0.576271                 0.542373\n",
      "3       0.694915              0.661017                 0.576271\n",
      "4       0.559322              0.593220                 0.508475 \n",
      "\n",
      "Gaussian Naive Bayes       0.606780\n",
      "Random Forest              0.583051\n",
      "Multinomial Naive Bayes    0.488136\n",
      "dtype: float64 \n",
      "\n",
      "Accuracy of Guessing Ranged Assassin: 0.3411764705882353\n"
     ]
    },
    {
     "output_type": "execute_result",
     "data": {
      "text/html": [
       "<div>\n",
       "<style scoped>\n",
       "    .dataframe tbody tr th:only-of-type {\n",
       "        vertical-align: middle;\n",
       "    }\n",
       "\n",
       "    .dataframe tbody tr th {\n",
       "        vertical-align: top;\n",
       "    }\n",
       "\n",
       "    .dataframe thead th {\n",
       "        text-align: right;\n",
       "    }\n",
       "</style>\n",
       "<table border=\"1\" class=\"dataframe\">\n",
       "  <thead>\n",
       "    <tr style=\"text-align: right;\">\n",
       "      <th></th>\n",
       "      <th>Models</th>\n",
       "      <th>Accuracy</th>\n",
       "    </tr>\n",
       "  </thead>\n",
       "  <tbody>\n",
       "    <tr>\n",
       "      <th>0</th>\n",
       "      <td>Gaussian Naive Bayes</td>\n",
       "      <td>0.606780</td>\n",
       "    </tr>\n",
       "    <tr>\n",
       "      <th>1</th>\n",
       "      <td>Random Forest</td>\n",
       "      <td>0.583051</td>\n",
       "    </tr>\n",
       "    <tr>\n",
       "      <th>2</th>\n",
       "      <td>Multinomial Naive Bayes</td>\n",
       "      <td>0.488136</td>\n",
       "    </tr>\n",
       "    <tr>\n",
       "      <th>3</th>\n",
       "      <td>Random Chance</td>\n",
       "      <td>0.341176</td>\n",
       "    </tr>\n",
       "  </tbody>\n",
       "</table>\n",
       "</div>"
      ],
      "text/plain": [
       "                    Models  Accuracy\n",
       "0     Gaussian Naive Bayes  0.606780\n",
       "1            Random Forest  0.583051\n",
       "2  Multinomial Naive Bayes  0.488136\n",
       "3            Random Chance  0.341176"
      ]
     },
     "metadata": {},
     "execution_count": 198
    }
   ],
   "metadata": {}
  },
  {
   "cell_type": "code",
   "execution_count": 206,
   "source": [
    "sns.barplot(x='Accuracy', y='Models', data=mean_acc_df)\r\n",
    "plt.xlabel('Accuracy')\r\n",
    "plt.ylabel('Model')\r\n",
    "plt.title(\"Accuracy of Models\")\r\n",
    "plt.legend()\r\n",
    "plt.show()"
   ],
   "outputs": [
    {
     "output_type": "stream",
     "name": "stderr",
     "text": [
      "No handles with labels found to put in legend.\n"
     ]
    },
    {
     "output_type": "display_data",
     "data": {
      "image/png": "[encoded data removed]",
      "text/plain": [
       "<Figure size 432x288 with 1 Axes>"
      ]
     },
     "metadata": {
      "needs_background": "light"
     }
    }
   ],
   "metadata": {}
  },
  {
   "cell_type": "code",
   "execution_count": 150,
   "source": [
    "df.head()"
   ],
   "outputs": [
    {
     "output_type": "execute_result",
     "data": {
      "text/html": [
       "<div>\n",
       "<style scoped>\n",
       "    .dataframe tbody tr th:only-of-type {\n",
       "        vertical-align: middle;\n",
       "    }\n",
       "\n",
       "    .dataframe tbody tr th {\n",
       "        vertical-align: top;\n",
       "    }\n",
       "\n",
       "    .dataframe thead th {\n",
       "        text-align: right;\n",
       "    }\n",
       "</style>\n",
       "<table border=\"1\" class=\"dataframe\">\n",
       "  <thead>\n",
       "    <tr style=\"text-align: right;\">\n",
       "      <th></th>\n",
       "      <th>hero</th>\n",
       "      <th>role</th>\n",
       "      <th>rating_damage</th>\n",
       "      <th>rating_survivability</th>\n",
       "      <th>rating_utility</th>\n",
       "      <th>life_amount</th>\n",
       "      <th>life_regenRate</th>\n",
       "      <th>weapon_damage</th>\n",
       "      <th>weapon_period</th>\n",
       "      <th>weapon_range</th>\n",
       "    </tr>\n",
       "  </thead>\n",
       "  <tbody>\n",
       "    <tr>\n",
       "      <th>1</th>\n",
       "      <td>Alarak</td>\n",
       "      <td>Melee Assasin</td>\n",
       "      <td>7.0</td>\n",
       "      <td>6.0</td>\n",
       "      <td>7.0</td>\n",
       "      <td>1950.0</td>\n",
       "      <td>4.0585</td>\n",
       "      <td>150.0</td>\n",
       "      <td>0.8332</td>\n",
       "      <td>1.5</td>\n",
       "    </tr>\n",
       "    <tr>\n",
       "      <th>2</th>\n",
       "      <td>Alexstrasza</td>\n",
       "      <td>Healer</td>\n",
       "      <td>3.0</td>\n",
       "      <td>4.0</td>\n",
       "      <td>6.0</td>\n",
       "      <td>1698.0</td>\n",
       "      <td>3.5390</td>\n",
       "      <td>73.0</td>\n",
       "      <td>1.0000</td>\n",
       "      <td>5.5</td>\n",
       "    </tr>\n",
       "    <tr>\n",
       "      <th>3</th>\n",
       "      <td>Cassia</td>\n",
       "      <td>Ranged Assasin</td>\n",
       "      <td>7.0</td>\n",
       "      <td>6.0</td>\n",
       "      <td>5.0</td>\n",
       "      <td>1660.0</td>\n",
       "      <td>3.4570</td>\n",
       "      <td>120.0</td>\n",
       "      <td>0.9000</td>\n",
       "      <td>2.0</td>\n",
       "    </tr>\n",
       "    <tr>\n",
       "      <th>4</th>\n",
       "      <td>Ana</td>\n",
       "      <td>Healer</td>\n",
       "      <td>3.0</td>\n",
       "      <td>3.0</td>\n",
       "      <td>7.0</td>\n",
       "      <td>1598.0</td>\n",
       "      <td>3.3281</td>\n",
       "      <td>30.0</td>\n",
       "      <td>0.7500</td>\n",
       "      <td>6.5</td>\n",
       "    </tr>\n",
       "    <tr>\n",
       "      <th>5</th>\n",
       "      <td>Anduin</td>\n",
       "      <td>Healer</td>\n",
       "      <td>2.0</td>\n",
       "      <td>4.0</td>\n",
       "      <td>7.0</td>\n",
       "      <td>1665.0</td>\n",
       "      <td>3.4687</td>\n",
       "      <td>85.0</td>\n",
       "      <td>1.0000</td>\n",
       "      <td>5.5</td>\n",
       "    </tr>\n",
       "  </tbody>\n",
       "</table>\n",
       "</div>"
      ],
      "text/plain": [
       "          hero            role  rating_damage  rating_survivability  \\\n",
       "1       Alarak   Melee Assasin            7.0                   6.0   \n",
       "2  Alexstrasza          Healer            3.0                   4.0   \n",
       "3       Cassia  Ranged Assasin            7.0                   6.0   \n",
       "4          Ana          Healer            3.0                   3.0   \n",
       "5       Anduin          Healer            2.0                   4.0   \n",
       "\n",
       "   rating_utility  life_amount  life_regenRate  weapon_damage  weapon_period  \\\n",
       "1             7.0       1950.0          4.0585          150.0         0.8332   \n",
       "2             6.0       1698.0          3.5390           73.0         1.0000   \n",
       "3             5.0       1660.0          3.4570          120.0         0.9000   \n",
       "4             7.0       1598.0          3.3281           30.0         0.7500   \n",
       "5             7.0       1665.0          3.4687           85.0         1.0000   \n",
       "\n",
       "   weapon_range  \n",
       "1           1.5  \n",
       "2           5.5  \n",
       "3           2.0  \n",
       "4           6.5  \n",
       "5           5.5  "
      ]
     },
     "metadata": {},
     "execution_count": 150
    }
   ],
   "metadata": {}
  }
 ],
 "metadata": {
  "orig_nbformat": 4,
  "language_info": {
   "name": "python",
   "version": "3.9.5",
   "mimetype": "text/x-python",
   "codemirror_mode": {
    "name": "ipython",
    "version": 3
   },
   "pygments_lexer": "ipython3",
   "nbconvert_exporter": "python",
   "file_extension": ".py"
  },
  "kernelspec": {
   "name": "python3",
   "display_name": "Python 3.9.5 64-bit ('env': venv)"
  },
  "interpreter": {
   "hash": "5c0bf16329faf4931f6f2f09236bc2ad5360c3ab7dd8a4b185f9bc4513b58c4f"
  }
 },
 "nbformat": 4,
 "nbformat_minor": 2
}