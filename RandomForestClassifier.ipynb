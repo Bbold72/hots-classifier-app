{
 "cells": [
  {
   "cell_type": "code",
   "execution_count": 6,
   "source": [
    "import os\r\n",
    "import pandas as pd\r\n",
    "import pickle\r\n",
    "from sklearn.ensemble import RandomForestClassifier\r\n",
    "from sklearn.model_selection import train_test_split\r\n",
    "from sklearn import metrics\r\n",
    "\r\n",
    "\r\n",
    "dir_data = 'data'\r\n",
    "dir_output = 'output'\r\n",
    "\r\n",
    "df = pd.read_csv(os.path.join(dir_data, 'herodata.csv'))\r\n",
    "df = df.drop(['speed', 'sight', 'life_scale', 'life_regenScale', 'weapon_damageScale'], axis=1)\r\n",
    "X = df.drop(['hero', 'role'], axis=1)\r\n",
    "y = df[['role']]"
   ],
   "outputs": [],
   "metadata": {}
  },
  {
   "cell_type": "code",
   "execution_count": 7,
   "source": [
    "\r\n",
    "\r\n",
    "# Split dataset into training set and test set\r\n",
    "X_train, X_test, y_train, y_test = train_test_split(X, y, test_size=0.2)\r\n",
    "\r\n",
    "\r\n",
    "clf = RandomForestClassifier()\r\n",
    "clf.fit(X_train, y_train)\r\n",
    "\r\n",
    "\r\n",
    "# Predict the response for test dataset\r\n",
    "y_pred = clf.predict(X_test)\r\n",
    "\r\n",
    "\r\n",
    "# Model Accuracy, how often is the classifier correct?\r\n",
    "print(\"Accuracy:\", metrics.accuracy_score(y_test, y_pred))\r\n",
    "\r\n",
    "# print results of predict\r\n",
    "print('Actual - Prediction')\r\n",
    "for yt, yp in zip(y_test.to_numpy(), y_pred):\r\n",
    "    print(yt[0], '-', yp)\r\n",
    "\r\n",
    "prediction_proba = clf.predict_proba(X_test)\r\n",
    "print(prediction_proba)\r\n"
   ],
   "outputs": [
    {
     "output_type": "stream",
     "name": "stdout",
     "text": [
      "Accuracy: 0.4444444444444444\n",
      "Actual - Prediction\n",
      "Bruiser - Ranged Assasin\n",
      "Ranged Assasin - Ranged Assasin\n",
      "Melee Assasin - Ranged Assasin\n",
      "Melee Assasin - Bruiser\n",
      "Bruiser - Tank\n",
      "Healer - Healer\n",
      "Tank - Bruiser\n",
      "Melee Assasin - Bruiser\n",
      "Healer - Healer\n",
      "Ranged Assasin - Tank\n",
      "Bruiser - Tank\n",
      "Melee Assasin - Ranged Assasin\n",
      "Ranged Assasin - Ranged Assasin\n",
      "Ranged Assasin - Ranged Assasin\n",
      "Support - Bruiser\n",
      "Ranged Assasin - Ranged Assasin\n",
      "Healer - Healer\n",
      "Ranged Assasin - Ranged Assasin\n",
      "[[0.25 0.04 0.24 0.43 0.   0.04]\n",
      " [0.   0.01 0.   0.99 0.   0.  ]\n",
      " [0.04 0.   0.3  0.66 0.   0.  ]\n",
      " [0.35 0.14 0.18 0.24 0.   0.09]\n",
      " [0.21 0.01 0.02 0.   0.   0.76]\n",
      " [0.   0.69 0.   0.21 0.1  0.  ]\n",
      " [0.63 0.04 0.01 0.   0.   0.32]\n",
      " [0.32 0.24 0.21 0.09 0.   0.14]\n",
      " [0.24 0.39 0.2  0.02 0.07 0.08]\n",
      " [0.31 0.15 0.   0.04 0.   0.5 ]\n",
      " [0.38 0.01 0.   0.02 0.   0.59]\n",
      " [0.12 0.21 0.17 0.47 0.   0.03]\n",
      " [0.   0.04 0.   0.96 0.   0.  ]\n",
      " [0.01 0.14 0.03 0.81 0.01 0.  ]\n",
      " [0.71 0.06 0.04 0.02 0.   0.17]\n",
      " [0.14 0.01 0.25 0.58 0.   0.02]\n",
      " [0.02 0.61 0.04 0.23 0.09 0.01]\n",
      " [0.32 0.04 0.12 0.49 0.   0.03]]\n"
     ]
    },
    {
     "output_type": "stream",
     "name": "stderr",
     "text": [
      "C:\\Users\\bxjxr\\AppData\\Local\\Temp/ipykernel_11996/2231131847.py:6: DataConversionWarning: A column-vector y was passed when a 1d array was expected. Please change the shape of y to (n_samples,), for example using ravel().\n",
      "  clf.fit(X_train, y_train)\n"
     ]
    }
   ],
   "metadata": {}
  },
  {
   "cell_type": "code",
   "execution_count": 5,
   "source": [
    "# save model to disk\r\n",
    "pickle.dump(clf, open('rf_model.sav', 'wb'))"
   ],
   "outputs": [],
   "metadata": {}
  }
 ],
 "metadata": {
  "orig_nbformat": 4,
  "language_info": {
   "name": "python",
   "version": "3.9.5",
   "mimetype": "text/x-python",
   "codemirror_mode": {
    "name": "ipython",
    "version": 3
   },
   "pygments_lexer": "ipython3",
   "nbconvert_exporter": "python",
   "file_extension": ".py"
  },
  "kernelspec": {
   "name": "python3",
   "display_name": "Python 3.9.5 64-bit ('env': venv)"
  },
  "interpreter": {
   "hash": "4003faa9b235c24632bc94462846e630e510eb844ea551b1e705031bec66b08d"
  }
 },
 "nbformat": 4,
 "nbformat_minor": 2
}