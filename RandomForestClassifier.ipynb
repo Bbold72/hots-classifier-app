{
 "cells": [
  {
   "cell_type": "code",
   "execution_count": 97,
   "source": [
    "import os\r\n",
    "import numpy as np\r\n",
    "import pandas as pd\r\n",
    "import pickle\r\n",
    "from sklearn.ensemble import RandomForestClassifier\r\n",
    "from sklearn.model_selection import train_test_split\r\n",
    "from sklearn import metrics\r\n",
    "import matplotlib.pyplot as plt\r\n",
    "import seaborn as sns\r\n",
    "\r\n",
    "\r\n",
    "\r\n",
    "dir_data = 'data'\r\n",
    "dir_output = 'output'\r\n",
    "\r\n",
    "df = pd.read_csv(os.path.join(dir_data, 'herodata.csv'))\r\n",
    "df = df.loc[df['role'] != 'Support']\r\n",
    "df = df.drop(['speed', 'sight', 'life_scale', 'life_regenScale', 'weapon_damageScale'], axis=1)\r\n",
    "\r\n",
    "# keep most important features\r\n",
    "# df = df[['hero', 'role', 'rating_damage', 'life_regenRate', 'life_amount']]\r\n",
    "# df = df[['hero', 'role', 'rating_damage', 'life_regenRate', 'life_amount', 'weapon_range']]\r\n",
    "\r\n",
    "\r\n",
    "X = df.drop(['hero', 'role'], axis=1)   # features\r\n",
    "y = df[['role']]                        # labels"
   ],
   "outputs": [],
   "metadata": {}
  },
  {
   "cell_type": "code",
   "execution_count": 98,
   "source": [
    "# Split dataset into training set and test set\r\n",
    "X_train, X_test, y_train, y_test = train_test_split(X, y, test_size=0.3)"
   ],
   "outputs": [],
   "metadata": {}
  },
  {
   "cell_type": "code",
   "execution_count": 108,
   "source": [
    "### Random Forest ###\r\n",
    "rf = RandomForestClassifier(n_estimators=500, max_depth=3).fit(X_train, y_train)\r\n",
    "\r\n",
    "# Predict the response \r\n",
    "rf_train_pred = rf.predict(X_train)\r\n",
    "rf_test_pred = rf.predict(X_test)\r\n",
    "\r\n",
    "# Model Accuracy\r\n",
    "print(\"Accuracy on Test Data:\", metrics.accuracy_score(y_train, rf_train_pred))\r\n",
    "print(\"Accuracy on Training Data:\", metrics.accuracy_score(y_test, rf_test_pred))\r\n",
    "\r\n",
    "# print results of predict\r\n",
    "# print('Actual - Prediction')\r\n",
    "# for yt, yp in zip(y_test.to_numpy(), y_pred):\r\n",
    "#     print(yt[0], '-', yp)\r\n",
    "\r\n",
    "\r\n"
   ],
   "outputs": [
    {
     "output_type": "stream",
     "name": "stderr",
     "text": [
      "C:\\Users\\bxjxr\\AppData\\Local\\Temp/ipykernel_2156/1445283906.py:2: DataConversionWarning: A column-vector y was passed when a 1d array was expected. Please change the shape of y to (n_samples,), for example using ravel().\n",
      "  rf = RandomForestClassifier(n_estimators=500, max_depth=3).fit(X_train, y_train)\n"
     ]
    },
    {
     "output_type": "stream",
     "name": "stdout",
     "text": [
      "Accuracy on Test Data: 0.9322033898305084\n",
      "Accuracy on Training Data: 0.6923076923076923\n"
     ]
    }
   ],
   "metadata": {}
  },
  {
   "cell_type": "code",
   "execution_count": 100,
   "source": [
    "# Evaluate Feature importance\r\n",
    "feature_imp = pd.Series(clf.feature_importances_, index=df.columns[2:]).sort_values(ascending=False)\r\n",
    "\r\n",
    "# Creating a bar plot\r\n",
    "sns.barplot(x=feature_imp, y=feature_imp.index)\r\n",
    "plt.xlabel('Feature Importance Score')\r\n",
    "plt.ylabel('Features')\r\n",
    "plt.title(\"Visualizing Important Features\")\r\n",
    "plt.legend()\r\n",
    "plt.show()"
   ],
   "outputs": [
    {
     "output_type": "stream",
     "name": "stderr",
     "text": [
      "No handles with labels found to put in legend.\n"
     ]
    },
    {
     "output_type": "display_data",
     "data": {
      "image/png": "[encoded data removed]",
      "text/plain": [
       "<Figure size 432x288 with 1 Axes>"
      ]
     },
     "metadata": {
      "needs_background": "light"
     }
    }
   ],
   "metadata": {}
  },
  {
   "cell_type": "code",
   "execution_count": 101,
   "source": [
    "# save model to disk\r\n",
    "pickle.dump(clf, open('rf_model.sav', 'wb'))"
   ],
   "outputs": [],
   "metadata": {}
  },
  {
   "cell_type": "code",
   "execution_count": 102,
   "source": [
    "from sklearn.naive_bayes import GaussianNB\r\n",
    "gnb = GaussianNB().fit(X_train, y_train)\r\n",
    "gnb_train_pred = gnb.predict(X_train)\r\n",
    "gnb_test_pred = gnb.predict(X_test)\r\n",
    "print(\"Accuracy on Test Data:\", metrics.accuracy_score(y_train, gnb_train_pred))\r\n",
    "print(\"Accuracy on Training Data:\", metrics.accuracy_score(y_test, gnb_test_pred))"
   ],
   "outputs": [
    {
     "output_type": "stream",
     "name": "stderr",
     "text": [
      "c:\\Users\\bxjxr\\Desktop\\Projects\\hots-classifier-app\\env\\lib\\site-packages\\sklearn\\utils\\validation.py:63: DataConversionWarning: A column-vector y was passed when a 1d array was expected. Please change the shape of y to (n_samples, ), for example using ravel().\n",
      "  return f(*args, **kwargs)\n"
     ]
    },
    {
     "output_type": "stream",
     "name": "stdout",
     "text": [
      "Accuracy on Test Data: 0.9322033898305084\n",
      "Accuracy on Training Data: 0.7307692307692307\n"
     ]
    }
   ],
   "metadata": {}
  },
  {
   "cell_type": "code",
   "execution_count": 103,
   "source": [
    "from sklearn.naive_bayes import MultinomialNB\r\n",
    "mnb = MultinomialNB().fit(X_train, y_train)\r\n",
    "mnb_train_pred = mnb.predict(X_train)\r\n",
    "mnb_test_pred = mnb.predict(X_test)\r\n",
    "print(\"Accuracy on Test Data:\", metrics.accuracy_score(y_train, mnb_train_pred))\r\n",
    "print(\"Accuracy on Training Data:\", metrics.accuracy_score(y_test, mnb_test_pred))"
   ],
   "outputs": [
    {
     "output_type": "stream",
     "name": "stdout",
     "text": [
      "Accuracy on Test Data: 0.6101694915254238\n",
      "Accuracy on Training Data: 0.5384615384615384\n"
     ]
    },
    {
     "output_type": "stream",
     "name": "stderr",
     "text": [
      "c:\\Users\\bxjxr\\Desktop\\Projects\\hots-classifier-app\\env\\lib\\site-packages\\sklearn\\utils\\validation.py:63: DataConversionWarning: A column-vector y was passed when a 1d array was expected. Please change the shape of y to (n_samples, ), for example using ravel().\n",
      "  return f(*args, **kwargs)\n"
     ]
    }
   ],
   "metadata": {}
  }
 ],
 "metadata": {
  "orig_nbformat": 4,
  "language_info": {
   "name": "python",
   "version": "3.9.5",
   "mimetype": "text/x-python",
   "codemirror_mode": {
    "name": "ipython",
    "version": 3
   },
   "pygments_lexer": "ipython3",
   "nbconvert_exporter": "python",
   "file_extension": ".py"
  },
  "kernelspec": {
   "name": "python3",
   "display_name": "Python 3.9.5 64-bit ('env': venv)"
  },
  "interpreter": {
   "hash": "5c0bf16329faf4931f6f2f09236bc2ad5360c3ab7dd8a4b185f9bc4513b58c4f"
  }
 },
 "nbformat": 4,
 "nbformat_minor": 2
}