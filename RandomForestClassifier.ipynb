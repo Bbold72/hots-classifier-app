{
 "cells": [
  {
   "cell_type": "code",
   "execution_count": 5,
   "source": [
    "import os\r\n",
    "import pandas as pd\r\n",
    "from sklearn.ensemble import RandomForestClassifier\r\n",
    "from sklearn.model_selection import train_test_split\r\n",
    "from sklearn import metrics\r\n",
    "\r\n",
    "\r\n",
    "dir_data = 'data'\r\n",
    "dir_output = 'output'\r\n",
    "\r\n",
    "df = pd.read_csv(os.path.join(dir_data, 'herodata.csv'))\r\n",
    "df = df.drop(['speed', 'sight', 'life_scale', 'life_regenScale', 'weapon_damageScale'], axis=1)\r\n",
    "X = df.drop(['hero', 'role'], axis=1)\r\n",
    "y = df[['role']]"
   ],
   "outputs": [],
   "metadata": {}
  },
  {
   "cell_type": "code",
   "execution_count": 14,
   "source": [
    "\r\n",
    "\r\n",
    "# Split dataset into training set and test set\r\n",
    "X_train, X_test, y_train, y_test = train_test_split(X, y, test_size=0.2)\r\n",
    "\r\n",
    "\r\n",
    "clf = RandomForestClassifier()\r\n",
    "clf.fit(X_train, y_train)\r\n",
    "\r\n",
    "\r\n",
    "# Predict the response for test dataset\r\n",
    "y_pred = clf.predict(X_test)\r\n",
    "\r\n",
    "# Import scikit-learn metrics module for accuracy calculation\r\n",
    "\r\n",
    "# Model Accuracy, how often is the classifier correct?\r\n",
    "print(\"Accuracy:\",metrics.accuracy_score(y_test, y_pred))\r\n",
    "\r\n",
    "\r\n",
    "# print(y_test, y_pred)\r\n",
    "# print(np.concatenate([np.array(y_test), y_pred]))\r\n",
    "\r\n",
    "# prediction = clf.predict(df)\r\n",
    "# prediction_proba = clf.predict_proba(df)"
   ],
   "outputs": [
    {
     "output_type": "stream",
     "name": "stdout",
     "text": [
      "Accuracy: 0.6666666666666666\n"
     ]
    },
    {
     "output_type": "stream",
     "name": "stderr",
     "text": [
      "C:\\Users\\bxjxr\\AppData\\Local\\Temp/ipykernel_15596/248736950.py:6: DataConversionWarning: A column-vector y was passed when a 1d array was expected. Please change the shape of y to (n_samples,), for example using ravel().\n",
      "  clf.fit(X_train, y_train)\n"
     ]
    }
   ],
   "metadata": {}
  }
 ],
 "metadata": {
  "orig_nbformat": 4,
  "language_info": {
   "name": "python",
   "version": "3.9.5",
   "mimetype": "text/x-python",
   "codemirror_mode": {
    "name": "ipython",
    "version": 3
   },
   "pygments_lexer": "ipython3",
   "nbconvert_exporter": "python",
   "file_extension": ".py"
  },
  "kernelspec": {
   "name": "python3",
   "display_name": "Python 3.9.5 64-bit ('env': venv)"
  },
  "interpreter": {
   "hash": "4003faa9b235c24632bc94462846e630e510eb844ea551b1e705031bec66b08d"
  }
 },
 "nbformat": 4,
 "nbformat_minor": 2
}